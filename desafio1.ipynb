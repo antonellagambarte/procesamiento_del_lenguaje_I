{
  "nbformat": 4,
  "nbformat_minor": 0,
  "metadata": {
    "colab": {
      "provenance": [],
      "authorship_tag": "ABX9TyPV/Tz1sblMT+5WuSK2/i/Q",
      "include_colab_link": true
    },
    "kernelspec": {
      "name": "python3",
      "display_name": "Python 3"
    },
    "language_info": {
      "name": "python"
    }
  },
  "cells": [
    {
      "cell_type": "markdown",
      "metadata": {
        "id": "view-in-github",
        "colab_type": "text"
      },
      "source": [
        "<a href=\"https://colab.research.google.com/github/antonellagambarte/procesamiento_del_lenguaje_I/blob/main/desafio1.ipynb\" target=\"_parent\"><img src=\"https://colab.research.google.com/assets/colab-badge.svg\" alt=\"Open In Colab\"/></a>"
      ]
    },
    {
      "cell_type": "code",
      "execution_count": 19,
      "metadata": {
        "id": "mgvhfKzlLfoa",
        "colab": {
          "base_uri": "https://localhost:8080/"
        },
        "outputId": "cefa1e51-a612-4dce-d6d2-defa529403d9"
      },
      "outputs": [
        {
          "output_type": "stream",
          "name": "stdout",
          "text": [
            "Requirement already satisfied: numpy in /usr/local/lib/python3.12/dist-packages (2.0.2)\n",
            "Requirement already satisfied: scikit-learn in /usr/local/lib/python3.12/dist-packages (1.6.1)\n",
            "Requirement already satisfied: scipy>=1.6.0 in /usr/local/lib/python3.12/dist-packages (from scikit-learn) (1.16.3)\n",
            "Requirement already satisfied: joblib>=1.2.0 in /usr/local/lib/python3.12/dist-packages (from scikit-learn) (1.5.2)\n",
            "Requirement already satisfied: threadpoolctl>=3.1.0 in /usr/local/lib/python3.12/dist-packages (from scikit-learn) (3.6.0)\n"
          ]
        }
      ],
      "source": [
        "%pip install numpy scikit-learn"
      ]
    },
    {
      "cell_type": "code",
      "source": [
        "from sklearn.feature_extraction.text import CountVectorizer, TfidfVectorizer\n",
        "from sklearn.metrics.pairwise import cosine_similarity\n",
        "from sklearn.naive_bayes import MultinomialNB, ComplementNB\n",
        "from sklearn.metrics import f1_score\n",
        "from sklearn.datasets import fetch_20newsgroups\n",
        "import numpy as np"
      ],
      "metadata": {
        "id": "A-OO4McyN1Aa"
      },
      "execution_count": 20,
      "outputs": []
    },
    {
      "cell_type": "code",
      "source": [
        "newsgroups_train = fetch_20newsgroups(subset='train', remove=('headers', 'footers', 'quotes'))\n",
        "newsgroups_test = fetch_20newsgroups(subset='test', remove=('headers', 'footers', 'quotes'))"
      ],
      "metadata": {
        "id": "G0mYrWybN2yA"
      },
      "execution_count": 21,
      "outputs": []
    },
    {
      "cell_type": "code",
      "source": [
        "\n",
        "tfidfvect = TfidfVectorizer()\n",
        "X_train = tfidfvect.fit_transform(newsgroups_train.data)"
      ],
      "metadata": {
        "id": "rwYFWhtweFWB"
      },
      "execution_count": 25,
      "outputs": []
    },
    {
      "cell_type": "code",
      "source": [
        "np.random.seed(42)\n",
        "idxs = np.random.choice(len(newsgroups_train.data), 5, replace=False)"
      ],
      "metadata": {
        "id": "tJAEw7LAUy5Z"
      },
      "execution_count": 26,
      "outputs": []
    },
    {
      "cell_type": "code",
      "source": [
        "for i, idx in enumerate(idxs):\n",
        "    print(\"=\"*80)\n",
        "    print(f\"Documento {i+1} (índice {idx}) - Clase: {newsgroups_train.target_names[newsgroups_train.target[idx]]}\")\n",
        "    print(newsgroups_train.data[idx][:800], \"...\\n\")\n",
        "    cossim = cosine_similarity(X_train[idx], X_train)[0]\n",
        "    most_similar = np.argsort(cossim)[::-1][1:6]\n",
        "    print(\"5 documentos más similares:\")\n",
        "    for j in most_similar:\n",
        "        print(f\" - idx {j}, clase: {newsgroups_train.target_names[newsgroups_train.target[j]]}, similitud: {cossim[j]:.3f}\")\n",
        "    print()"
      ],
      "metadata": {
        "colab": {
          "base_uri": "https://localhost:8080/"
        },
        "id": "AplVjQDDU97i",
        "outputId": "72820d36-02fe-4cf5-faf0-b39005b8fc39"
      },
      "execution_count": 27,
      "outputs": [
        {
          "output_type": "stream",
          "name": "stdout",
          "text": [
            "================================================================================\n",
            "Documento 1 (índice 7492) - Clase: comp.sys.mac.hardware\n",
            "Could someone please post any info on these systems.\n",
            "\n",
            "Thanks.\n",
            "BoB\n",
            "-- \n",
            "---------------------------------------------------------------------- \n",
            "Robert Novitskey | \"Pursuing women is similar to banging one's head\n",
            "rrn@po.cwru.edu  |  against a wall...with less opportunity for reward\"  ...\n",
            "\n",
            "5 documentos más similares:\n",
            " - idx 10935, clase: comp.sys.mac.hardware, similitud: 0.667\n",
            " - idx 7258, clase: comp.sys.ibm.pc.hardware, similitud: 0.348\n",
            " - idx 4971, clase: comp.sys.mac.hardware, similitud: 0.180\n",
            " - idx 4303, clase: misc.forsale, similitud: 0.155\n",
            " - idx 645, clase: comp.sys.mac.hardware, similitud: 0.141\n",
            "\n",
            "================================================================================\n",
            "Documento 2 (índice 3546) - Clase: comp.os.ms-windows.misc\n",
            "\n",
            "\n",
            "     Don't bother if you have CPBackup or Fastback.  They all offer options \n",
            "not available in the stripped-down MS version (FROM CPS!).  Examples - no \n",
            "proprietary format (to save space), probably no direct DMA access, and no \n",
            "tape drive! ...\n",
            "\n",
            "5 documentos más similares:\n",
            " - idx 5665, clase: comp.sys.ibm.pc.hardware, similitud: 0.204\n",
            " - idx 2011, clase: comp.sys.ibm.pc.hardware, similitud: 0.192\n",
            " - idx 8643, clase: comp.sys.ibm.pc.hardware, similitud: 0.172\n",
            " - idx 1546, clase: comp.sys.ibm.pc.hardware, similitud: 0.171\n",
            " - idx 8765, clase: comp.sys.ibm.pc.hardware, similitud: 0.162\n",
            "\n",
            "================================================================================\n",
            "Documento 3 (índice 5582) - Clase: misc.forsale\n",
            "5.25\" Internal Low density disk drive.\n",
            "\n",
            "Monochrome monitor\n",
            "\n",
            "8088 motherboard, built in parallel and serial ports, built in mono and\n",
            "color output, 7Mhz.\n",
            "\n",
            "Libertarian, atheist, semi-anarchal Techno-Rat. ...\n",
            "\n",
            "5 documentos más similares:\n",
            " - idx 5510, clase: misc.forsale, similitud: 0.462\n",
            " - idx 4922, clase: misc.forsale, similitud: 0.300\n",
            " - idx 4347, clase: comp.graphics, similitud: 0.274\n",
            " - idx 8057, clase: misc.forsale, similitud: 0.208\n",
            " - idx 4028, clase: comp.graphics, similitud: 0.169\n",
            "\n",
            "================================================================================\n",
            "Documento 4 (índice 4793) - Clase: talk.politics.guns\n",
            "Hi,\n",
            "\n",
            "In Canada, any gun that enters a National Park must be sealed (I think it's a\n",
            "small metal tag that's placed over the trigger).  The net result of this is\n",
            "that you _can't_ use a gun to protect yourself from bears (or psychos) in the\n",
            "National Parks.  Instead, one has to be sensitive to the dangers and annoyances\n",
            "of hiking in bear country, and take the appropriate precautions.\n",
            "\n",
            "I think this policy makes the users of the National Parks feel a little closer\n",
            "to Nature, that they are a part of Nature and, as such, have to deal with\n",
            "nature on it's own terms. ...\n",
            "\n",
            "5 documentos más similares:\n",
            " - idx 6894, clase: talk.politics.guns, similitud: 0.236\n",
            " - idx 5856, clase: sci.crypt, similitud: 0.236\n",
            " - idx 4271, clase: talk.politics.misc, similitud: 0.233\n",
            " - idx 3141, clase: talk.politics.guns, similitud: 0.230\n",
            " - idx 10836, clase: alt.atheism, similitud: 0.229\n",
            "\n",
            "================================================================================\n",
            "Documento 5 (índice 3813) - Clase: rec.sport.hockey\n",
            "\n",
            "Doesn't it also have the Statue of Liberty on it or is that Richter's Mask?\n",
            "\n",
            "The back actually has a Bee followed by a Z to represent the Beezer. It \n",
            "also has something that looks like the three interconnecting circles from\n",
            "the Led Zepplin 4 album cover. Is that what it is supposed to be? and if\n",
            "it is does anybody know why he would put it there? Ali?\n",
            "\n",
            "\n",
            "John\n",
            "\"The official Language of Golf is Profanity\"\n",
            "\n",
            "\n",
            " ...\n",
            "\n",
            "5 documentos más similares:\n",
            " - idx 10836, clase: alt.atheism, similitud: 0.251\n",
            " - idx 759, clase: soc.religion.christian, similitud: 0.248\n",
            " - idx 913, clase: alt.atheism, similitud: 0.241\n",
            " - idx 5826, clase: soc.religion.christian, similitud: 0.241\n",
            " - idx 5856, clase: sci.crypt, similitud: 0.233\n",
            "\n"
          ]
        }
      ]
    }
  ]
}